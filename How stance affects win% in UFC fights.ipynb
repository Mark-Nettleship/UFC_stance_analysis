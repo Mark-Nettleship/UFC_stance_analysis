{
 "cells": [
  {
   "cell_type": "markdown",
   "id": "80c265e2",
   "metadata": {},
   "source": [
    "# How stance affects win % in UFC fights"
   ]
  },
  {
   "cell_type": "markdown",
   "id": "52b41bd5",
   "metadata": {},
   "source": [
    "First, we check the names of the columns in our dataset."
   ]
  },
  {
   "cell_type": "code",
   "execution_count": 33,
   "id": "f04be777",
   "metadata": {},
   "outputs": [
    {
     "name": "stdout",
     "output_type": "stream",
     "text": [
      "name\n",
      "nickname\n",
      "wins\n",
      "losses\n",
      "draws\n",
      "height_cm\n",
      "weight_in_kg\n",
      "reach_in_cm\n",
      "stance\n",
      "date_of_birth\n",
      "significant_strikes_landed_per_minute\n",
      "significant_striking_accuracy\n",
      "significant_strikes_absorbed_per_minute\n",
      "significant_strike_defence\n",
      "average_takedowns_landed_per_15_minutes\n",
      "takedown_accuracy\n",
      "takedown_defense\n",
      "average_submissions_attempted_per_15_minutes\n",
      "Total fights\n",
      "win%\n"
     ]
    }
   ],
   "source": [
    "import pandas as pd \n",
    "rawData = pd.read_csv('ufc-fighters-statistics.csv') \n",
    "for col in data.columns:\n",
    "    print(col)"
   ]
  },
  {
   "cell_type": "markdown",
   "id": "76954e44",
   "metadata": {},
   "source": [
    "Next, we focus on fighter records and add a new \"win %\" column."
   ]
  },
  {
   "cell_type": "code",
   "execution_count": 34,
   "id": "9c079fc0",
   "metadata": {},
   "outputs": [
    {
     "name": "stdout",
     "output_type": "stream",
     "text": [
      "4105 fighters in dataset.\n"
     ]
    }
   ],
   "source": [
    "data['Total fights'] = data['wins'] + data['losses'] + data['draws']\n",
    "\n",
    "records = data[['name', 'wins', 'losses', 'draws', 'Total fights']].copy()\n",
    "\n",
    "records['win%'] = (data['wins'] / data['Total fights']) * 100\n",
    "\n",
    "print(str(records['name'].nunique()) + ' fighters in dataset.')"
   ]
  },
  {
   "cell_type": "markdown",
   "id": "32ef3d86",
   "metadata": {},
   "source": [
    "After that, we remove fighters with 0 fights on their record."
   ]
  },
  {
   "cell_type": "code",
   "execution_count": 35,
   "id": "5de23c1c",
   "metadata": {},
   "outputs": [
    {
     "name": "stdout",
     "output_type": "stream",
     "text": [
      "4086 fighters remaining in dataset.\n"
     ]
    }
   ],
   "source": [
    "# create a Boolean mask for the rows to remove\n",
    "mask = records['Total fights'] == 0\n",
    "\n",
    "# select all rows except the ones that contain '0' in the 'Total fights' column\n",
    "records = records[~mask]\n",
    "\n",
    "print(str(records['name'].nunique()) + ' fighters remaining in dataset.')"
   ]
  },
  {
   "cell_type": "markdown",
   "id": "38858eb3",
   "metadata": {},
   "source": [
    "Next, we add a \"stance\" column and remove fighters whose stance was not recorded."
   ]
  },
  {
   "cell_type": "code",
   "execution_count": 36,
   "id": "6dbdf712",
   "metadata": {},
   "outputs": [
    {
     "name": "stdout",
     "output_type": "stream",
     "text": [
      "3284 fighters remaining in dataset.\n"
     ]
    }
   ],
   "source": [
    "data['win%'] = (data['wins'] / data['Total fights']) * 100\n",
    "stancewin = data[['name', 'wins', 'losses', 'draws', 'Total fights', 'win%', 'stance']]\n",
    "\n",
    "stancewin = stancewin.dropna()\n",
    "\n",
    "print(str(stancewin['name'].nunique()) + ' fighters remaining in dataset.')"
   ]
  },
  {
   "cell_type": "markdown",
   "id": "d2204390",
   "metadata": {},
   "source": [
    "We then check how many fighters used each stance."
   ]
  },
  {
   "cell_type": "code",
   "execution_count": 37,
   "id": "618e4d46",
   "metadata": {},
   "outputs": [
    {
     "name": "stdout",
     "output_type": "stream",
     "text": [
      "Open stance: 7\n",
      "Orthodox: 2526\n",
      "Sideways: 3\n",
      "Southpaw: 560\n",
      "Switch: 192\n"
     ]
    }
   ],
   "source": [
    "print(\"Open stance: \" + str(stancewin['stance'].value_counts()['Open Stance']))\n",
    "print(\"Orthodox: \" + str(stancewin['stance'].value_counts()['Orthodox']))\n",
    "print(\"Sideways: \" + str(stancewin['stance'].value_counts()['Sideways']))\n",
    "print(\"Southpaw: \" + str(stancewin['stance'].value_counts()['Southpaw']))\n",
    "print(\"Switch: \" + str(stancewin['stance'].value_counts()['Switch']))"
   ]
  },
  {
   "cell_type": "markdown",
   "id": "d6a420cd",
   "metadata": {},
   "source": [
    "We will focus on the three stances for which we have the most fighters - Orthodox, Southpaw, and Switch. "
   ]
  },
  {
   "cell_type": "code",
   "execution_count": 38,
   "id": "ad954cd4",
   "metadata": {},
   "outputs": [
    {
     "name": "stdout",
     "output_type": "stream",
     "text": [
      "            Landed  Accuracy %  Absorbed  Defended %      Win %\n",
      "Stance                                                         \n",
      "Orthodox  2.769786   39.878860  3.610479   48.308789  67.579040\n",
      "Southpaw  2.698929   41.376786  3.298643   48.571429  68.277739\n",
      "Switch    3.484323   43.098958  3.928958   44.989583  73.650617\n",
      "-------------\n"
     ]
    }
   ],
   "source": [
    "striking = data[['stance', 'significant_strikes_landed_per_minute','significant_striking_accuracy','significant_strikes_absorbed_per_minute','significant_strike_defence','win%']]\n",
    "stances = [\"Orthodox\", \"Southpaw\", \"Switch\"]\n",
    "striking = striking[striking['stance'].isin(stances)]\n",
    "mapping = {striking.columns[0]:'Stance',striking.columns[1]:'Landed',striking.columns[2]:'Accuracy %',striking.columns[3]:'Absorbed',striking.columns[4]:'Defended %',striking.columns[5]:'Win %'}\n",
    "striking.rename(columns=mapping, inplace=True)\n",
    "grouped = striking.groupby(\"Stance\")\n",
    "print(grouped.mean())\n",
    "print(\"-------------\")"
   ]
  },
  {
   "cell_type": "markdown",
   "id": "d9c50f5f",
   "metadata": {},
   "source": [
    "We can see that there is a small, but noticable difference between the win % for \"Switch\" fighters, compared to \"orthodox\" and \"southpaw\" fighters. This shown in the bar chart below:"
   ]
  },
  {
   "cell_type": "code",
   "execution_count": 39,
   "id": "e171f1ae",
   "metadata": {},
   "outputs": [
    {
     "data": {
      "text/plain": [
       "Text(0, 0.5, 'Win %')"
      ]
     },
     "execution_count": 39,
     "metadata": {},
     "output_type": "execute_result"
    },
    {
     "data": {
      "image/png": "[encoded data removed]",
      "text/plain": [
       "<Figure size 432x288 with 1 Axes>"
      ]
     },
     "metadata": {
      "needs_background": "light"
     },
     "output_type": "display_data"
    }
   ],
   "source": [
    "groupedWinPerc = grouped[['Stance','Win %']]\n",
    "\n",
    "plot = groupedWinPerc.mean().plot.bar()\n",
    "plot.set_xlabel('Stance')\n",
    "plot.set_ylabel('Win %')"
   ]
  },
  {
   "cell_type": "markdown",
   "id": "c170fde1",
   "metadata": {},
   "source": [
    "Next, we perform a t-test to determine whether there are significant differences between the win percentages for fighters using each stance."
   ]
  },
  {
   "cell_type": "code",
   "execution_count": 40,
   "id": "fcd9f3ad",
   "metadata": {},
   "outputs": [
    {
     "name": "stdout",
     "output_type": "stream",
     "text": [
      "Win % for orthodox not significantly different from Southpaw\n",
      "Ttest_indResult(statistic=-0.8647176672912108, pvalue=0.38726102368041515)\n",
      "--------------\n",
      "Win % for orthodox significantly different from switch\n",
      "Ttest_indResult(statistic=-4.706658250797031, pvalue=2.6443573946678976e-06)\n",
      "--------------\n",
      "Win % for southpaw significantly different from switch\n",
      "Ttest_indResult(statistic=-4.062041243305795, pvalue=5.3767010060451314e-05)\n",
      "--------------\n"
     ]
    }
   ],
   "source": [
    "from scipy import stats\n",
    "\n",
    "A=striking[striking['Stance']=='Orthodox']['Win %'].values.tolist()\n",
    "B=striking[striking['Stance']=='Southpaw']['Win %'].values.tolist()\n",
    "C=striking[striking['Stance']=='Switch']['Win %'].values.tolist()\n",
    "\n",
    "\n",
    "t_check=stats.ttest_ind(A,B)\n",
    "t_check\n",
    "alpha=0.05\n",
    "if(t_check[1]<alpha):\n",
    "    print('Win % for orthodox significantly different from Southpaw')\n",
    "    print(str(t_check))\n",
    "    print(\"--------------\")\n",
    "else:\n",
    "    print('Win % for orthodox not significantly different from Southpaw')\n",
    "    print(str(t_check))\n",
    "    print(\"--------------\")\n",
    "\n",
    "t_check=stats.ttest_ind(A,C)\n",
    "t_check\n",
    "alpha=0.05\n",
    "if(t_check[1]<alpha):\n",
    "    print('Win % for orthodox significantly different from switch')\n",
    "    print(str(t_check))\n",
    "    print(\"--------------\")\n",
    "else:\n",
    "    print('Win % for orthodox not significantly different from switch')\n",
    "    print(str(t_check))\n",
    "    print(\"--------------\")\n",
    "    \n",
    "t_check=stats.ttest_ind(B,C)\n",
    "t_check\n",
    "alpha=0.05\n",
    "if(t_check[1]<alpha):\n",
    "    print('Win % for southpaw significantly different from switch')\n",
    "    print(str(t_check))\n",
    "    print(\"--------------\")\n",
    "else:\n",
    "    print('Win % for southpaw not significantly different from switch')\n",
    "    print(str(t_check))\n",
    "    print(\"--------------\")"
   ]
  },
  {
   "cell_type": "markdown",
   "id": "79135b06",
   "metadata": {},
   "source": [
    "## Findings:\n",
    "\n",
    "#### 1. Fighters using a \"Switch\" stance have a higher average win percentage than fighters using either \"orthodox\" or \"southpaw\" stances.\n",
    "\n",
    "#### 2. There is a statistically significant difference between the win percentage for fighters using a \"Switch\" stance, and fighters using an \"Orthodox\" stance.\n",
    "\n",
    "#### 3. There is a statistically significant difference between the win percentage for fighters using a \"Switch\" stance, and fighters using a \"Southpaw\" stance.\n",
    "\n",
    "#### 4. There is not a statistically significant difference between the win percentage for fighters using a \"Orthodox\" stance, and fighters using a \"Southpaw\" stance.\n",
    "\n",
    "## Conclusion:\n",
    "\n",
    "#### Fighters who can switch stances are likely to win a higher percentage of their fights than fighters who remain in either orthodox or southpaw stances."
   ]
  },
  {
   "cell_type": "code",
   "execution_count": null,
   "id": "de70902d",
   "metadata": {},
   "outputs": [],
   "source": []
  }
 ],
 "metadata": {
  "kernelspec": {
   "display_name": "Python 3",
   "language": "python",
   "name": "python3"
  },
  "language_info": {
   "codemirror_mode": {
    "name": "ipython",
    "version": 3
   },
   "file_extension": ".py",
   "mimetype": "text/x-python",
   "name": "python",
   "nbconvert_exporter": "python",
   "pygments_lexer": "ipython3",
   "version": "3.8.8"
  }
 },
 "nbformat": 4,
 "nbformat_minor": 5
}
